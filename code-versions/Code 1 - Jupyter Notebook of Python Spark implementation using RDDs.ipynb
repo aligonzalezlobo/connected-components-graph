{
 "cells": [
  {
   "cell_type": "code",
   "execution_count": 1,
   "id": "a67d6a8c",
   "metadata": {},
   "outputs": [
    {
     "name": "stdout",
     "output_type": "stream",
     "text": [
      "[(0, 1), (1, 2), (1, 3), (3, 4), (5, 6), (6, 7), (7, 8)]\n"
     ]
    }
   ],
   "source": [
    "from pyspark import SparkContext, SparkConf\n",
    "\n",
    "\n",
    "# create a SparkContext object\n",
    "conf = SparkConf().setAppName(\"GraphRDD\")\n",
    "sc = SparkContext(conf=conf)\n",
    "\n",
    "# create a graph\n",
    "\n",
    "edges_rdd = sc.parallelize([(0,1),(1,2),(1,3),(3,4),(5,6),(6,7),(7,8)])\n",
    "\n",
    "# print the RDD\n",
    "print(edges_rdd.collect())"
   ]
  },
  {
   "cell_type": "code",
   "execution_count": 2,
   "id": "ddc33ff0",
   "metadata": {},
   "outputs": [],
   "source": [
    "# Function for the reducer\n",
    "\n",
    "def reducer(edges):\n",
    "    key = edges[0]\n",
    "    values = edges[1]\n",
    "    minim = key\n",
    "    valueList = []\n",
    "    to_emit = []\n",
    "    counter = 0\n",
    "    for value in values:\n",
    "        if value < minim:\n",
    "            minim = value\n",
    "        valueList.append(value)\n",
    "    if minim < key:\n",
    "        to_emit.append((key,minim))\n",
    "        for value in valueList:\n",
    "            if minim != value:\n",
    "                counter += 1\n",
    "                to_emit.append((value,minim))\n",
    "    return to_emit, counter"
   ]
  },
  {
   "cell_type": "code",
   "execution_count": 3,
   "id": "3cdf0e49",
   "metadata": {},
   "outputs": [
    {
     "name": "stdout",
     "output_type": "stream",
     "text": [
      "[(2, 0), (3, 0), (4, 0), (1, 0), (8, 5), (7, 5), (6, 5)]\n",
      "Iterations: 4\n",
      "Elapsed time:  2.3227078914642334\n"
     ]
    }
   ],
   "source": [
    "# initialising count_new_pairs with a value > 0 to run the first iterartion\n",
    "\n",
    "import time\n",
    "\n",
    "start_time = time.time()\n",
    "\n",
    "count_new_pairs = 1\n",
    "\n",
    "iterations = 0\n",
    "\n",
    "# Loop for the iterations\n",
    "\n",
    "while count_new_pairs > 0:\n",
    "    \n",
    "    # CCF iterate\n",
    "    \n",
    "    # Map\n",
    "    result_map = edges_rdd.flatMap(lambda x: ((x[0],x[1]),(x[1],x[0])))\n",
    "    \n",
    "    # Shuffle and Sort\n",
    "    result_shufflesort = result_map.groupByKey().map(lambda x : (x[0], list(x[1])))\n",
    "    \n",
    "    # Reduce\n",
    "    result_reducer = result_shufflesort.map(lambda x: reducer(x))\n",
    "    result_reducer2 = result_reducer.flatMap(lambda x: x[0])\n",
    "    \n",
    "    # Updating the counting\n",
    "    count_new_pairs = result_reducer.map(lambda x: x[1]).reduce(lambda x, y : x + y)\n",
    "    \n",
    "    # CCF dedup    \n",
    "    edges_rdd = result_reducer2.distinct()\n",
    "    \n",
    "    iterations+=1\n",
    "\n",
    "sorted_rdd = edges_rdd.sortBy(lambda x: x[1])\n",
    "end_time = time.time()\n",
    "\n",
    "elapsed_time = end_time - start_time\n",
    "\n",
    "print(sorted_rdd.collect()) \n",
    "print(\"Iterations:\", iterations)\n",
    "print(\"Elapsed time: \", elapsed_time)"
   ]
  }
 ],
 "metadata": {
  "kernelspec": {
   "display_name": "Python 3",
   "language": "python",
   "name": "python3"
  },
  "language_info": {
   "codemirror_mode": {
    "name": "ipython",
    "version": 3
   },
   "file_extension": ".py",
   "mimetype": "text/x-python",
   "name": "python",
   "nbconvert_exporter": "python",
   "pygments_lexer": "ipython3",
   "version": "3.8.8"
  }
 },
 "nbformat": 4,
 "nbformat_minor": 5
}
