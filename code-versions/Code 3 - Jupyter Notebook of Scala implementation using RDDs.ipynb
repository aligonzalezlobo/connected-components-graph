{
 "cells": [
  {
   "cell_type": "code",
   "execution_count": 1,
   "id": "dbec66a6",
   "metadata": {},
   "outputs": [
    {
     "data": {
      "text/plain": [
       "Intitializing Scala interpreter ..."
      ]
     },
     "metadata": {},
     "output_type": "display_data"
    },
    {
     "data": {
      "text/plain": [
       "Spark Web UI available at http://mbp-de-alicia-2.lan:4043\n",
       "SparkContext available as 'sc' (version = 3.3.2, master = local[*], app id = local-1680451211657)\n",
       "SparkSession available as 'spark'\n"
      ]
     },
     "metadata": {},
     "output_type": "display_data"
    },
    {
     "name": "stdout",
     "output_type": "stream",
     "text": [
      "23/04/02 18:00:19 WARN SparkSession: Using an existing Spark session; only runtime SQL configurations will take effect.\n"
     ]
    },
    {
     "data": {
      "text/plain": [
       "import org.apache.spark.sql.SparkSession\n",
       "spark: org.apache.spark.sql.SparkSession = org.apache.spark.sql.SparkSession@7456dbf1\n",
       "edges_rdd: org.apache.spark.rdd.RDD[(Int, Int)] = ParallelCollectionRDD[0] at parallelize at <console>:33\n"
      ]
     },
     "execution_count": 1,
     "metadata": {},
     "output_type": "execute_result"
    }
   ],
   "source": [
    "// import SparkSession\n",
    "import org.apache.spark.sql.SparkSession\n",
    "\n",
    "// create a SparkSession\n",
    "val spark = SparkSession.builder()\n",
    "                        .appName(\"Graph Creation\")\n",
    "                        .master(\"local[*]\")\n",
    "                        .getOrCreate()\n",
    "\n",
    "// create an RDD for the edges\n",
    "var edges_rdd = spark.sparkContext.parallelize(List((0,1),(1,2),(1,3),(3,4),(5,6),(6,7),(7,8)))"
   ]
  },
  {
   "cell_type": "code",
   "execution_count": 2,
   "id": "f5ad1d9c",
   "metadata": {},
   "outputs": [
    {
     "data": {
      "text/plain": [
       "reducer: (edges: (Int, List[Int]))(List[(Int, Int)], Int)\n"
      ]
     },
     "execution_count": 2,
     "metadata": {},
     "output_type": "execute_result"
    }
   ],
   "source": [
    "// Function for the reducer\n",
    "\n",
    "def reducer(edges: (Int, List[Int])): (List[(Int, Int)], Int) = {\n",
    "    val key = edges._1\n",
    "    val values = edges._2\n",
    "    var minim = key\n",
    "    var valueList = List.empty[Int]\n",
    "    var to_emit = List.empty[(Int, Int)]\n",
    "    var counter = 0\n",
    "    for (value <- values) {\n",
    "        if (value < minim) {\n",
    "            minim = value\n",
    "        }\n",
    "        valueList = valueList :+ value\n",
    "    }\n",
    "    if (minim < key) {\n",
    "        to_emit = (key, minim) :: to_emit\n",
    "        for (value <- valueList) {\n",
    "            if (minim != value) {\n",
    "                counter += 1\n",
    "                to_emit = (value, minim) :: to_emit\n",
    "            }\n",
    "        }\n",
    "    }\n",
    "    (to_emit, counter)\n",
    "}"
   ]
  },
  {
   "cell_type": "code",
   "execution_count": 3,
   "id": "efb907fe",
   "metadata": {},
   "outputs": [
    {
     "name": "stdout",
     "output_type": "stream",
     "text": [
      "List((4,0), (1,0), (3,0), (2,0), (7,5), (8,5), (6,5))\n",
      "Iterations: 4\n"
     ]
    },
    {
     "data": {
      "text/plain": [
       "import scala.collection.mutable.ListBuffer\n",
       "import scala.util.control.Breaks._\n",
       "count_new_pairs: Int = 0\n",
       "iterations: Int = 4\n",
       "sorted_rdd: org.apache.spark.rdd.RDD[(Int, Int)] = MapPartitionsRDD[41] at sortBy at <console>:42\n"
      ]
     },
     "execution_count": 3,
     "metadata": {},
     "output_type": "execute_result"
    }
   ],
   "source": [
    "import scala.collection.mutable.ListBuffer\n",
    "import scala.util.control.Breaks._\n",
    "\n",
    "var count_new_pairs = 1\n",
    "var iterations = 0\n",
    "\n",
    "while (count_new_pairs > 0) {\n",
    "  val result_map = edges_rdd.flatMap(x => List((x._1, x._2), (x._2, x._1)))\n",
    "  val result_shufflesort = result_map.groupByKey().map(x => (x._1, x._2.toList))\n",
    "  val result_reducer = result_shufflesort.map(x => reducer(x))\n",
    "  val result_reducer2 = result_reducer.flatMap(x => x._1)\n",
    "  count_new_pairs = result_reducer.map(x => x._2).reduce((x, y) => x + y)\n",
    "  edges_rdd = result_reducer2.distinct()\n",
    "  iterations += 1\n",
    "}\n",
    "\n",
    "val sorted_rdd = edges_rdd.sortBy(x => x._2)\n",
    "println(sorted_rdd.collect().toList)\n",
    "println(\"Iterations: \" + iterations)"
   ]
  }
 ],
 "metadata": {
  "kernelspec": {
   "display_name": "spylon-kernel",
   "language": "scala",
   "name": "spylon-kernel"
  },
  "language_info": {
   "codemirror_mode": "text/x-scala",
   "file_extension": ".scala",
   "help_links": [
    {
     "text": "MetaKernel Magics",
     "url": "https://metakernel.readthedocs.io/en/latest/source/README.html"
    }
   ],
   "mimetype": "text/x-scala",
   "name": "scala",
   "pygments_lexer": "scala",
   "version": "0.4.1"
  }
 },
 "nbformat": 4,
 "nbformat_minor": 5
}
